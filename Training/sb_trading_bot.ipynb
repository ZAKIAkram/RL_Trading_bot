{
  "cells": [
    {
      "cell_type": "code",
      "execution_count": null,
      "metadata": {
        "id": "se-Ab4Lko0HS"
      },
      "outputs": [],
      "source": [
        "# !apt-get update && apt-get install swig cmake\n",
        "# !pip install box2d-py\n",
        "# !pip install \"stable-baselines3[extra]>=2.0.0a4\""
      ]
    },
    {
      "cell_type": "code",
      "execution_count": null,
      "metadata": {
        "colab": {
          "base_uri": "https://localhost:8080/"
        },
        "id": "rfh4cFZzd6mA",
        "outputId": "4e5231a7-f3b5-47b2-f22f-0e1604ead764"
      },
      "outputs": [
        {
          "name": "stderr",
          "output_type": "stream",
          "text": [
            "/usr/local/lib/python3.10/dist-packages/ipykernel/ipkernel.py:283: DeprecationWarning: `should_run_async` will not call `transform_cell` automatically in the future. Please pass the result to `transformed_cell` argument and any exception that happen during thetransform in `preprocessing_exc_tuple` in IPython 7.17 and above.\n",
            "  and should_run_async(code)\n"
          ]
        }
      ],
      "source": [
        "import numpy as np\n",
        "import matplotlib.pyplot as plt\n",
        "# import gymnasium as gym\n",
        "import gym\n",
        "# from gymnasium import Env, spaces\n",
        "from gym import Env, spaces\n",
        "import pandas as pd\n",
        "import random\n",
        "import os\n",
        "\n",
        "import torch\n",
        "from torch import nn\n",
        "\n",
        "from stable_baselines3 import A2C\n",
        "from stable_baselines3.common.vec_env import DummyVecEnv\n"
      ]
    },
    {
      "cell_type": "code",
      "execution_count": null,
      "metadata": {
        "id": "ew9EwY9tbb_-"
      },
      "outputs": [],
      "source": [
        "PATH = \"drive/MyDrive/Trading_bot/\""
      ]
    },
    {
      "cell_type": "code",
      "execution_count": null,
      "metadata": {
        "id": "nIg4OiQ0-FZM"
      },
      "outputs": [],
      "source": [
        "INITIAL_BALANCE = 10000\n",
        "\n",
        "class TradingEnv(Env):\n",
        "  def __init__(self, data_path, initial_step=0, end_step=0, random_steps=False, forward=True):\n",
        "    #self.reset() maybe\n",
        "    self.df = self.__read_df(data_path)\n",
        "    self.action_space = spaces.Discrete(3)\n",
        "    # self.action_space = spaces.Tuple((spaces.Discrete(3),\n",
        "    #                                  spaces.Box(low=0, high=1, shape=(1,)))) # Buy, Sell, do Nothing\n",
        "    self.observation_space = spaces.Box(low=0, high=100000, shape=(6, 6), dtype=np.float32)\n",
        "    self.current_step = initial_step\n",
        "    self.end_step = self.__clamp(end_step)\n",
        "    self.random_steps = random_steps\n",
        "    self.forward = forward\n",
        "\n",
        "\n",
        "\n",
        "  def __read_df(self, data_path):\n",
        "    df = pd.read_csv(data_path, quotechar='\"')\n",
        "    return df\n",
        "\n",
        "  def reset(self):\n",
        "    self.shares_held = 0\n",
        "    self.balance = INITIAL_BALANCE\n",
        "    self.current_step = 0\n",
        "    if self.random_steps:\n",
        "      self.current_step = random.randint(0, self.df.shape[0] - 6)\n",
        "      self.end_step = random.randint(self.current_step, len(self.df.loc[:, 'Open'].values - 6))\n",
        "    self.net_worth = INITIAL_BALANCE\n",
        "    self.shares_sold = 0\n",
        "    self.total_shares_sold_value = 0.0\n",
        "    self.last_price = random.uniform(\n",
        "          self.df.loc[self.current_step, 'Open'],\n",
        "          self.df.loc[self.current_step, 'Close']\n",
        "      )\n",
        "    return self.__getNextObs()\n",
        "\n",
        "  def render(self):\n",
        "    # print(f\"balance : {self.balance}, portfolio : {self.shares_held * self.last_price}, net_worth : {self.net_worth}\")\n",
        "    print(f\"net_worth : {self.net_worth}\")\n",
        "\n",
        "  def step(self, action):\n",
        "    prev_net_worth = self.net_worth\n",
        "    self.__take_action(action)\n",
        "    self.current_step += 1\n",
        "    if self.current_step > len(self.df.loc[:, 'Open'].values) - 6:\n",
        "        self.current_step = 0\n",
        "    returns = (self.net_worth - prev_net_worth) / prev_net_worth\n",
        "    reward = self.__compute_reward(action, prev_net_worth) # TODO : change to action[0] after stable baselines\n",
        "    done = self.net_worth <= 0 or self.current_step == self.end_step\n",
        "    obs = self.__getNextObs()\n",
        "    return obs, reward, done, {}\n",
        "\n",
        "  def __getNextObs(self):\n",
        "    frame = np.array([\n",
        "        self.df.iloc[self.current_step: self.current_step + 6, self.df.columns.get_loc('Open')],\n",
        "        self.df.iloc[self.current_step: self.current_step + 6, self.df.columns.get_loc('High')],\n",
        "        self.df.iloc[self.current_step: self.current_step + 6, self.df.columns.get_loc('Low')],\n",
        "        self.df.iloc[self.current_step: self.current_step + 6, self.df.columns.get_loc('Close')],\n",
        "        self.df.iloc[self.current_step: self.current_step + 6, self.df.columns.get_loc('Volume')]\n",
        "    ])\n",
        "    obs = np.append(frame, [[\n",
        "          self.balance,\n",
        "          self.net_worth,\n",
        "          self.shares_held,\n",
        "          self.shares_sold,\n",
        "          self.last_price,\n",
        "          self.total_shares_sold_value\n",
        "      ]], axis=0)\n",
        "    return obs\n",
        "\n",
        "  def __compute_reward(self, action, prev_net_worth):\n",
        "    returns = (self.net_worth - prev_net_worth) / prev_net_worth\n",
        "    reward = 0.0\n",
        "    if action != 2:\n",
        "      #penalize the bot for making a trade\n",
        "      reward -= .0002\n",
        "    reward += returns\n",
        "    if returns == 0.0:\n",
        "      reward -= .0005\n",
        "    return reward\n",
        "  def __take_action(self, action):\n",
        "    #select a price \n",
        "    current_price = random.uniform(\n",
        "          self.df.loc[self.current_step, 'Open'],\n",
        "          self.df.loc[self.current_step, 'Close']\n",
        "      )\n",
        "    self.last_price = current_price\n",
        "    # here amount refers to the percentage of the account balance\n",
        "    amount = .2\n",
        "    if action == 0:\n",
        "\n",
        "      quantity = amount * self.balance / current_price\n",
        "      self.shares_held += quantity\n",
        "      self.balance -= amount * self.balance\n",
        "    elif action == 1:\n",
        "      #Sell\n",
        "      quantity = amount * self.shares_held\n",
        "      self.shares_held -= quantity\n",
        "      self.shares_sold += quantity\n",
        "      self.total_shares_sold_value += quantity * current_price\n",
        "      self.balance += quantity * current_price\n",
        "    self.net_worth = self.balance + self.shares_held * current_price\n",
        "  def __clamp(self, end_step):\n",
        "    if 0 < end_step < self.df.shape[0] - 5:\n",
        "      return end_step\n",
        "    return self.df.shape[0] - 6"
      ]
    },
    {
      "cell_type": "code",
      "execution_count": null,
      "metadata": {
        "id": "hLXZC4uzbv8y"
      },
      "outputs": [],
      "source": [
        "TSLA_path = os.path.join(PATH, \"data\",\"TSLA.csv\")\n",
        "MSFT_path = os.path.join(PATH, \"data\", \"MSFT.csv\")\n",
        "AAPL_path = os.path.join(PATH, \"data\", \"AAPL.csv\")"
      ]
    },
    {
      "cell_type": "code",
      "execution_count": null,
      "metadata": {
        "id": "8j66kr3k84jX"
      },
      "outputs": [],
      "source": [
        "#creating the training environment of different stocks\n",
        "\n",
        "TSLA_training_env = TradingEnv(TSLA_path, initial_step=0, end_step=837)\n",
        "MSFT_training_env = TradingEnv(MSFT_path, initial_step=0, end_step=837)\n",
        "AAPL_training_env = TradingEnv(TSLA_path, initial_step=0, end_step=837)"
      ]
    },
    {
      "cell_type": "code",
      "execution_count": null,
      "metadata": {
        "colab": {
          "base_uri": "https://localhost:8080/"
        },
        "id": "Ko6WJTJp-mz7",
        "outputId": "9376e03f-e98c-4f7e-cfcd-cc69d322317f"
      },
      "outputs": [
        {
          "name": "stdout",
          "output_type": "stream",
          "text": [
            "[[2.10000000e+02 2.17009995e+02 2.25949997e+02 2.52699997e+02\n",
            "  2.50100006e+02 2.50050003e+02]\n",
            " [2.16979996e+02 2.18860001e+02 2.30610001e+02 2.54630005e+02\n",
            "  2.57179993e+02 2.55399994e+02]\n",
            " [2.02509995e+02 2.10419998e+02 2.16779999e+02 2.42080002e+02\n",
            "  2.47080002e+02 2.48479996e+02]\n",
            " [2.12080002e+02 2.11990005e+02 2.20110001e+02 2.42679993e+02\n",
            "  2.54850006e+02 2.53919998e+02]\n",
            " [1.50327800e+08 1.37734000e+08 1.70772700e+08 1.25147800e+08\n",
            "  9.35629000e+07 8.89172000e+07]\n",
            " [1.00000000e+04 1.00000000e+04 0.00000000e+00 0.00000000e+00\n",
            "  1.94735289e+01 0.00000000e+00]]\n"
          ]
        }
      ],
      "source": [
        "print(TSLA_training_env.reset())"
      ]
    },
    {
      "cell_type": "code",
      "execution_count": null,
      "metadata": {
        "id": "Yu3GhdhUwGaI"
      },
      "outputs": [],
      "source": [
        "model = A2C(\"MlpPolicy\", MSFT_training_env, verbose=1)\n",
        "model.learn(total_timesteps=5000)"
      ]
    },
    {
      "cell_type": "code",
      "execution_count": null,
      "metadata": {
        "id": "sWRe4g7J1H4p"
      },
      "outputs": [],
      "source": [
        "#save the model\n",
        "model.save(\"Trading_bot_MSFT_5000\")"
      ]
    },
    {
      "cell_type": "code",
      "execution_count": null,
      "metadata": {
        "id": "MO4h84yk2gWE"
      },
      "outputs": [],
      "source": [
        "del model"
      ]
    }
  ],
  "metadata": {
    "accelerator": "GPU",
    "colab": {
      "gpuType": "T4",
      "provenance": []
    },
    "kernelspec": {
      "display_name": "Python 3",
      "name": "python3"
    },
    "language_info": {
      "name": "python"
    }
  },
  "nbformat": 4,
  "nbformat_minor": 0
}
